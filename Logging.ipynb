{
 "cells": [
  {
   "cell_type": "markdown",
   "metadata": {},
   "source": [
    "#  🐍 Python Logging ✍️\n",
    "[original article here](https://realpython.com/python-logging/)"
   ]
  },
  {
   "cell_type": "markdown",
   "metadata": {},
   "source": [
    "If you've ever written a programme you'll know that sometimes things go wrong and you need to figure out going wrong.\n",
    "\n",
    "When first learning Python, or any programming language, you'll probably debug your programme with a littering of 'print()' statements. Whilst this certainly works and is easy it's not so easy to undo.\n",
    "\n",
    "If you then fix your problem and want to send your code off for production you will have to tediously go through your programme and remove or comment out every print statement. If you remove these lines and need to debug your programme again than that's even __more__ time invested doing boring work that isn't useful!\n",
    "\n",
    "What's the solution I hear you ask? Is there a way to easily turn on and off your std outputs? Why yes there is:"
   ]
  },
  {
   "cell_type": "code",
   "execution_count": 2,
   "metadata": {},
   "outputs": [],
   "source": [
    "import logging"
   ]
  },
  {
   "cell_type": "markdown",
   "metadata": {},
   "source": [
    "It's as simple as that! Now, let's look at how we actually use this module"
   ]
  },
  {
   "cell_type": "code",
   "execution_count": null,
   "metadata": {},
   "outputs": [],
   "source": [
    "#Using print statements\n",
    "def factorial(n, running_total=1):\n",
    "    print(n) # I have to be commented out!\n",
    "    print(f'running_total = {running_total}') # So do I\n",
    "    if n == 1:\n",
    "        print('reached the end of the factorising') # ... and so do I\n",
    "        return running_total\n",
    "    running_total *= n\n",
    "    print(f'running_total * n = {running_total}') # and finally I have to be commented out too\n",
    "    return factorial(n-1, running_total)\n",
    "    \n",
    "print(factorial(4))"
   ]
  },
  {
   "cell_type": "markdown",
   "metadata": {},
   "source": [
    "Commenting in and out the four lines might not seem like much but if you're in a rush to deliver or working on this code a lot it will quickly become tiresome; and this is for just one function!"
   ]
  },
  {
   "cell_type": "code",
   "execution_count": 3,
   "metadata": {},
   "outputs": [
    {
     "name": "stderr",
     "output_type": "stream",
     "text": [
      "DEBUG:root:4\n",
      "DEBUG:root:running_total = 1\n",
      "DEBUG:root:running_total * n = 4\n",
      "DEBUG:root:3\n",
      "DEBUG:root:running_total = 4\n",
      "DEBUG:root:running_total * n = 12\n",
      "DEBUG:root:2\n",
      "DEBUG:root:running_total = 12\n",
      "DEBUG:root:running_total * n = 24\n",
      "DEBUG:root:1\n",
      "DEBUG:root:running_total = 24\n",
      "DEBUG:root:reached the end of the factorising\n"
     ]
    },
    {
     "name": "stdout",
     "output_type": "stream",
     "text": [
      "24\n"
     ]
    }
   ],
   "source": [
    "logging.basicConfig(level=logging.DEBUG)\n",
    "\n",
    "#Using logging statements\n",
    "def factorial(n, running_total=1):\n",
    "    logging.debug(n)\n",
    "    logging.debug(f'running_total = {running_total}')\n",
    "    if n == 1:\n",
    "        logging.debug('reached the end of the factorising')\n",
    "        return running_total\n",
    "    running_total *= n\n",
    "    logging.debug(f'running_total * n = {running_total}')\n",
    "    return factorial(n-1, running_total)\n",
    "    \n",
    "print(factorial(4))"
   ]
  },
  {
   "cell_type": "markdown",
   "metadata": {},
   "source": [
    "In the code above you can see that it outputs the same result (although highlighted in red because we are working in a Jupyter Notebook). And to remove the logging you only have to edit one line of code, no matter how many logging.debug statements you have!\n",
    "\n",
    "Try it now: go back to the code above and change the logging.basicConfig level to 'logging.INFO'. You will __need to restart your kernel__ before running this. We'll see why below."
   ]
  },
  {
   "cell_type": "markdown",
   "metadata": {},
   "source": [
    "### logging.basicConfig\n",
    "What happened there? Why did we need to restart the kernel?\n",
    "Well, when you run .basicConfig that you can only call it once. So once we had set the level to debug we couldn't change it. You'll find that you need to restart your kernel again if you want to view any of the debug statements.\n",
    "\n",
    "But what exactly does debug vs. info mean? And why does the output have loads of 'junk' before your message?"
   ]
  },
  {
   "cell_type": "markdown",
   "metadata": {},
   "source": [
    "### Logging levels\n",
    "The logging module has five different levels of logging:\n",
    "* debug\n",
    "* info\n",
    "* warning\n",
    "* error\n",
    "* critical\n",
    "By default the logger is set to the warning level. But, you can choose at which level you want to log your programme. Why would you want to do this?\n",
    "\n",
    "Well, let's suppose you're oly writing code for yourself. You may wish to be able to turn debugging statements on and off easily. That's one reason why having different levels is useful. It means you can change one line to turn on/off debugging statements.\n",
    "\n",
    "Why would you need the extra levels though? Surely if something is important enough to be logged as a warning it doesn't need to be logged as critical? Well, let's suppose your module is imported by another module. In your module, you've set the basicConfig level to info because you like to pepper your std output with helpful little notes about what your programme is doing.\n",
    "\n",
    "The person who has imported your module, however, doesn't even care if your programme has an error message, they only care about critical messages. This means that they can set the logging level to critical and only accept critical logging messages from your programme like \"whoops, just fired a nuclear missile by accident\".\n",
    "\n",
    "### Prettier outputs\n"
   ]
  },
  {
   "cell_type": "code",
   "execution_count": 4,
   "metadata": {},
   "outputs": [
    {
     "name": "stderr",
     "output_type": "stream",
     "text": [
      "WARNING:root:this is a warning\n"
     ]
    }
   ],
   "source": [
    "logging.basicConfig(format='%(name)s - %(levelname)s - %(message)s')\n",
    "\n",
    "logging.warning('this is a warning')"
   ]
  },
  {
   "cell_type": "code",
   "execution_count": 5,
   "metadata": {},
   "outputs": [],
   "source": [
    "logger = logging.getLogger('example_logger')\n"
   ]
  },
  {
   "cell_type": "code",
   "execution_count": 6,
   "metadata": {},
   "outputs": [
    {
     "name": "stderr",
     "output_type": "stream",
     "text": [
      "WARNING:example_logger:this is another warning\n"
     ]
    }
   ],
   "source": [
    "logger.warning('this is another warning')"
   ]
  },
  {
   "cell_type": "code",
   "execution_count": 7,
   "metadata": {},
   "outputs": [
    {
     "name": "stderr",
     "output_type": "stream",
     "text": [
      "ERROR:root:Exception occurred\n",
      "Traceback (most recent call last):\n",
      "  File \"<ipython-input-7-46b202072e5c>\", line 4, in <module>\n",
      "    c = a / b\n",
      "ZeroDivisionError: division by zero\n"
     ]
    }
   ],
   "source": [
    "a = 5\n",
    "b = 0\n",
    "try:\n",
    "  c = a / b\n",
    "except Exception as e:\n",
    "  logging.exception(\"Exception occurred\")"
   ]
  },
  {
   "cell_type": "code",
   "execution_count": null,
   "metadata": {},
   "outputs": [],
   "source": []
  }
 ],
 "metadata": {
  "kernelspec": {
   "display_name": "Python 3",
   "language": "python",
   "name": "python3"
  },
  "language_info": {
   "codemirror_mode": {
    "name": "ipython",
    "version": 3
   },
   "file_extension": ".py",
   "mimetype": "text/x-python",
   "name": "python",
   "nbconvert_exporter": "python",
   "pygments_lexer": "ipython3",
   "version": "3.7.3"
  }
 },
 "nbformat": 4,
 "nbformat_minor": 2
}
