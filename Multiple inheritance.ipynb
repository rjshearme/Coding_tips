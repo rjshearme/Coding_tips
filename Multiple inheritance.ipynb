{
 "cells": [
  {
   "cell_type": "markdown",
   "metadata": {},
   "source": [
    "#  🐍 Python and the Deadly Diamond of Death 💎"
   ]
  },
  {
   "cell_type": "markdown",
   "metadata": {},
   "source": [
    "The \"diamond problem\" (sometimes referred to as the \"Deadly Diamond of Death\") is an ambiguity that arises when two classes B and C inherit from A, and class D inherits from both B and C.\n",
    "\n",
    "If there is a method in A that B and C have overridden, and D does not override it, then which version of the method does D inherit: that of B, or that of C?\n",
    "<img src=\"https://uspgamedev.org/media/06_encontro_bcc_2014/images/diamond_of_death.png\" width=300 align=\"center\">\n"
   ]
  },
  {
   "cell_type": "markdown",
   "metadata": {},
   "source": [
    "### Simple diamond"
   ]
  },
  {
   "cell_type": "markdown",
   "metadata": {},
   "source": [
    "Below is a cell which show a simple diamond as per the above diagram. A is the base class which inherits from object. B and C both inherit from A and D inherits from both B and C. Both B and C override the methods of A. This should all be pretty straightforward OOP. When you run the next cell you can see this.\n",
    "\n",
    "I apologise for the somewhat drole naming of these objects but it is in fact clearer than naming them something more fun like \"animal\", \"lion\", \"tiger\", and \"liger\"."
   ]
  },
  {
   "cell_type": "code",
   "execution_count": 1,
   "metadata": {},
   "outputs": [
    {
     "name": "stdout",
     "output_type": "stream",
     "text": [
      "m of A called\n",
      "m of B called\n",
      "m of C called\n"
     ]
    }
   ],
   "source": [
    "class A:\n",
    "    @classmethod\n",
    "    def m(self):\n",
    "        print(\"m of A called\")\n",
    "\n",
    "class B(A):\n",
    "    @classmethod\n",
    "    def m(self):\n",
    "        print(\"m of B called\")\n",
    "    \n",
    "class C(A):\n",
    "    @classmethod\n",
    "    def m(self):\n",
    "        print(\"m of C called\")\n",
    "\n",
    "class D(B,C):\n",
    "    pass\n",
    "\n",
    "A.m()\n",
    "B.m()\n",
    "C.m()"
   ]
  },
  {
   "cell_type": "markdown",
   "metadata": {},
   "source": [
    "What will D inherit though? It does not override the methods of its parent classes.\n",
    "\n",
    "Before you run the next cell, stop and predict what you think will be printed. Will it be the method of A, B, C, or some combination that will be called?"
   ]
  },
  {
   "cell_type": "code",
   "execution_count": 2,
   "metadata": {},
   "outputs": [
    {
     "name": "stdout",
     "output_type": "stream",
     "text": [
      "m of B called\n"
     ]
    }
   ],
   "source": [
    "D.m()"
   ]
  },
  {
   "cell_type": "markdown",
   "metadata": {},
   "source": [
    "As you can see, D inherits the method of B. This is because B is specified first in the inheritance list when D was defined. In the cell below we reverse the inheritance order and you can see that now D inherits the method of C."
   ]
  },
  {
   "cell_type": "code",
   "execution_count": 3,
   "metadata": {},
   "outputs": [
    {
     "name": "stdout",
     "output_type": "stream",
     "text": [
      "m of C called\n"
     ]
    }
   ],
   "source": [
    "class D(C,B):\n",
    "    pass\n",
    "\n",
    "D.m()"
   ]
  },
  {
   "cell_type": "markdown",
   "metadata": {},
   "source": [
    "### Half a diamond"
   ]
  },
  {
   "cell_type": "markdown",
   "metadata": {},
   "source": [
    "So multiple inheritance and the deadly diamond of death seems to be pretty easily understood and avoided in Python, correct? Well, let's test that and how well you understand it. In the cell below we've removed the m method of B. So B should inherit the method of A and C should override the method of A. When you run the cell below you can see this."
   ]
  },
  {
   "cell_type": "code",
   "execution_count": 4,
   "metadata": {},
   "outputs": [
    {
     "name": "stdout",
     "output_type": "stream",
     "text": [
      "m of A called\n",
      "m of A called\n",
      "m of C called\n"
     ]
    }
   ],
   "source": [
    "class A:\n",
    "    @classmethod\n",
    "    def m(self):\n",
    "        print(\"m of A called\")\n",
    "\n",
    "class B(A):\n",
    "    pass\n",
    "    \n",
    "class C(A):\n",
    "    @classmethod\n",
    "    def m(self):\n",
    "        print(\"m of C called\")\n",
    "\n",
    "class D(B,C):\n",
    "    pass\n",
    "\n",
    "A.m()\n",
    "B.m()\n",
    "C.m()"
   ]
  },
  {
   "cell_type": "markdown",
   "metadata": {},
   "source": [
    "What does this mean for D though?\n",
    "\n",
    "Before you run the next cell have a stop and predict what the method m of D will produce. Will D inherit the method m from B which inherits it from A or will D inherit the method m from C?"
   ]
  },
  {
   "cell_type": "code",
   "execution_count": 5,
   "metadata": {},
   "outputs": [
    {
     "name": "stdout",
     "output_type": "stream",
     "text": [
      "m of C called\n"
     ]
    }
   ],
   "source": [
    "D.m()"
   ]
  },
  {
   "cell_type": "markdown",
   "metadata": {},
   "source": [
    "Whether you said \"A\" or \"C\" you are correct! (Although \"C\" is preferred)\n",
    "\n",
    "If you're working in Python2 then D will inherit from A.\n",
    "\n",
    "If you're working in Python3 (as you should be) then D will inherit from C.\n",
    "\n",
    "If you want to have the same inheritance behaviour in Python2 as Python3 then you should make your root object (A) inherit from the base class object."
   ]
  },
  {
   "cell_type": "markdown",
   "metadata": {},
   "source": [
    "### Super and MRO"
   ]
  },
  {
   "cell_type": "markdown",
   "metadata": {},
   "source": [
    "Let's extend our example now so that each method defines its own m method. We can see that thanks to the Liskov Substitution Principle that an object of class D called by other class names will result in the other class names being used."
   ]
  },
  {
   "cell_type": "code",
   "execution_count": 6,
   "metadata": {},
   "outputs": [],
   "source": [
    "class A:\n",
    "    def m(self):\n",
    "        print(\"m of A called\")\n",
    "\n",
    "class B(A):\n",
    "    def m(self):\n",
    "        print(\"m of B called\")\n",
    "    \n",
    "class C(A):\n",
    "    def m(self):\n",
    "        print(\"m of C called\")\n",
    "\n",
    "class D(B,C):\n",
    "    def m(self):\n",
    "        print(\"m of D called\")"
   ]
  },
  {
   "cell_type": "code",
   "execution_count": 8,
   "metadata": {},
   "outputs": [
    {
     "name": "stdout",
     "output_type": "stream",
     "text": [
      "m of D called\n",
      "m of B called\n",
      "m of C called\n",
      "m of A called\n"
     ]
    }
   ],
   "source": [
    "d = D()\n",
    "D.m(d)\n",
    "B.m(d)\n",
    "C.m(d)\n",
    "A.m(d)"
   ]
  },
  {
   "cell_type": "markdown",
   "metadata": {},
   "source": [
    "What about if we want to have D's method m also call the methods of its parent classes?"
   ]
  },
  {
   "cell_type": "code",
   "execution_count": 10,
   "metadata": {},
   "outputs": [],
   "source": [
    "class D(B,C):\n",
    "    def m(self):\n",
    "        print(\"m of D called\")\n",
    "        B.m(self)\n",
    "        C.m(self)\n",
    "        A.m(self)"
   ]
  },
  {
   "cell_type": "code",
   "execution_count": 11,
   "metadata": {},
   "outputs": [
    {
     "name": "stdout",
     "output_type": "stream",
     "text": [
      "m of D called\n",
      "m of B called\n",
      "m of C called\n",
      "m of A called\n"
     ]
    }
   ],
   "source": [
    "d = D()\n",
    "d.m()"
   ]
  },
  {
   "cell_type": "markdown",
   "metadata": {},
   "source": [
    "Let's do this for all the classes now and see what this looks like"
   ]
  },
  {
   "cell_type": "code",
   "execution_count": 12,
   "metadata": {},
   "outputs": [],
   "source": [
    "class A:\n",
    "    @classmethod\n",
    "    def m(self):\n",
    "        print(\"m of A called\")\n",
    "\n",
    "class B(A):\n",
    "    @classmethod\n",
    "    def m(self):\n",
    "        print(\"m of B called\")\n",
    "        A.m()\n",
    "    \n",
    "class C(A):\n",
    "    @classmethod\n",
    "    def m(self):\n",
    "        print(\"m of C called\")\n",
    "        A.m()\n",
    "\n",
    "class D(B,C):\n",
    "    @classmethod\n",
    "    def m(self):\n",
    "        print(\"m of D called\")\n",
    "        B.m()\n",
    "        C.m()"
   ]
  },
  {
   "cell_type": "code",
   "execution_count": 13,
   "metadata": {},
   "outputs": [
    {
     "name": "stdout",
     "output_type": "stream",
     "text": [
      "m of B called\n",
      "m of A called\n",
      "---\n",
      "m of D called\n",
      "m of B called\n",
      "m of A called\n",
      "m of C called\n",
      "m of A called\n"
     ]
    }
   ],
   "source": [
    "B.m()\n",
    "print('---')\n",
    "D.m()"
   ]
  },
  {
   "cell_type": "markdown",
   "metadata": {},
   "source": [
    "Uh oh! We can clearly see that this causes an issue. When we call B's m method it works as expected as B's m method now calls A's m method.\n",
    "\n",
    "The trouble is that it means that when D's m method is called it calls A's m method twice as both B and C's m methods call A's m method.\n",
    "\n",
    "Before reading further, have a think about how you might solve this problem. See if you can think of both a unpython and a pythonic way of solving the problem!"
   ]
  },
  {
   "cell_type": "markdown",
   "metadata": {},
   "source": [
    "### Unpythonic solution"
   ]
  },
  {
   "cell_type": "markdown",
   "metadata": {},
   "source": [
    "The unpythonic solution is as per below. You have two methods for each class. One that is private and one that is public. This means that you can now have each m method only call itself and each of it parents' m methods once!"
   ]
  },
  {
   "cell_type": "code",
   "execution_count": 14,
   "metadata": {},
   "outputs": [],
   "source": [
    "class A:\n",
    "    @classmethod\n",
    "    def m(self):\n",
    "        print(\"m of A called\")\n",
    "\n",
    "class B(A):\n",
    "    @classmethod\n",
    "    def _m(self):\n",
    "        print(\"m of B called\")\n",
    "    @classmethod\n",
    "    def m(self):\n",
    "        self._m()\n",
    "        A.m()\n",
    "    \n",
    "class C(A):\n",
    "    @classmethod\n",
    "    def _m(self):\n",
    "        print(\"m of C called\")\n",
    "    @classmethod\n",
    "    def m(self):\n",
    "        self._m()\n",
    "        A.m()\n",
    "\n",
    "class D(B,C):\n",
    "    @classmethod\n",
    "    def m(self):\n",
    "        print(\"m of D called\")\n",
    "        B._m()\n",
    "        C._m()\n",
    "        A.m()"
   ]
  },
  {
   "cell_type": "code",
   "execution_count": null,
   "metadata": {},
   "outputs": [],
   "source": [
    "D.m()\n",
    "print('---')\n",
    "B.m()"
   ]
  },
  {
   "cell_type": "markdown",
   "metadata": {},
   "source": [
    "... but it really isn't very pretty is it?\n",
    "\n",
    "Before reading the pythonic solution below, have another think about how you might solve this."
   ]
  },
  {
   "cell_type": "markdown",
   "metadata": {},
   "source": [
    "### Pythonic solution"
   ]
  },
  {
   "cell_type": "markdown",
   "metadata": {},
   "source": [
    "Here is a super solution! Python's super function!\n",
    "\n",
    "The super function refers to the parent and is especially useful when using the \\_\\_init\\_\\_ method. It ensures that each method will only be called once and in the correct order."
   ]
  },
  {
   "cell_type": "code",
   "execution_count": 15,
   "metadata": {},
   "outputs": [],
   "source": [
    "class A:\n",
    "    @classmethod\n",
    "    def m(self):\n",
    "        print(\"m of A called\")\n",
    "\n",
    "class B(A):\n",
    "    @classmethod\n",
    "    def m(self):\n",
    "        print(\"m of B called\")\n",
    "        super().m()\n",
    "    \n",
    "class C(A):\n",
    "    @classmethod\n",
    "    def m(self):\n",
    "        print(\"m of C called\")\n",
    "        super().m()\n",
    "\n",
    "class D(B,C):\n",
    "    @classmethod\n",
    "    def m(self):\n",
    "        print(\"m of D called\")\n",
    "        super().m()"
   ]
  },
  {
   "cell_type": "code",
   "execution_count": 16,
   "metadata": {},
   "outputs": [
    {
     "name": "stdout",
     "output_type": "stream",
     "text": [
      "m of D called\n",
      "m of B called\n",
      "m of C called\n",
      "m of A called\n",
      "---\n",
      "m of B called\n",
      "m of A called\n"
     ]
    }
   ],
   "source": [
    "D.m()\n",
    "print('---')\n",
    "B.m()"
   ]
  },
  {
   "cell_type": "code",
   "execution_count": 17,
   "metadata": {},
   "outputs": [],
   "source": [
    "class A:\n",
    "    def __init__(self):\n",
    "        print(\"A.__init__\")\n",
    "\n",
    "class B(A):\n",
    "    def __init__(self):\n",
    "        print(\"B.__init__\")\n",
    "        super().__init__()\n",
    "    \n",
    "class C(A):\n",
    "    def __init__(self):\n",
    "        print(\"C.__init__\")\n",
    "        super().__init__()\n",
    "\n",
    "\n",
    "class D(B,C):\n",
    "    def __init__(self):\n",
    "        print(\"D.__init__\")\n",
    "        super().__init__()"
   ]
  },
  {
   "cell_type": "code",
   "execution_count": 18,
   "metadata": {},
   "outputs": [
    {
     "name": "stdout",
     "output_type": "stream",
     "text": [
      "D.__init__\n",
      "B.__init__\n",
      "C.__init__\n",
      "A.__init__\n"
     ]
    }
   ],
   "source": [
    "d = D()"
   ]
  },
  {
   "cell_type": "markdown",
   "metadata": {},
   "source": [
    "### Easy order discovery"
   ]
  },
  {
   "cell_type": "markdown",
   "metadata": {},
   "source": [
    "The only remaining question is \"How do I find out what order Python will use?\". Well, Python will assess the tree for the class structure with a depth-first approach and then work from left to right. This is why (as you see above) it would prefer to use the m method of B, then C, then A.\n",
    "\n",
    "If you can't understand why your class inheritance is not working and want to see tha actual order of method resolution that python is using, well then there's a method for that too!\n",
    "\n",
    "The mro method shows you the \"method resolution order\" of an object and the order in which it will override/inherit methods."
   ]
  },
  {
   "cell_type": "code",
   "execution_count": 19,
   "metadata": {},
   "outputs": [
    {
     "data": {
      "text/plain": [
       "[__main__.A, object]"
      ]
     },
     "execution_count": 19,
     "metadata": {},
     "output_type": "execute_result"
    }
   ],
   "source": [
    "A.mro()"
   ]
  },
  {
   "cell_type": "code",
   "execution_count": 20,
   "metadata": {},
   "outputs": [
    {
     "data": {
      "text/plain": [
       "[__main__.B, __main__.A, object]"
      ]
     },
     "execution_count": 20,
     "metadata": {},
     "output_type": "execute_result"
    }
   ],
   "source": [
    "B.mro()"
   ]
  },
  {
   "cell_type": "code",
   "execution_count": 21,
   "metadata": {},
   "outputs": [
    {
     "data": {
      "text/plain": [
       "[__main__.C, __main__.A, object]"
      ]
     },
     "execution_count": 21,
     "metadata": {},
     "output_type": "execute_result"
    }
   ],
   "source": [
    "C.mro()"
   ]
  },
  {
   "cell_type": "code",
   "execution_count": 22,
   "metadata": {},
   "outputs": [
    {
     "data": {
      "text/plain": [
       "[__main__.D, __main__.B, __main__.C, __main__.A, object]"
      ]
     },
     "execution_count": 22,
     "metadata": {},
     "output_type": "execute_result"
    }
   ],
   "source": [
    "D.mro()"
   ]
  },
  {
   "cell_type": "code",
   "execution_count": null,
   "metadata": {},
   "outputs": [],
   "source": []
  }
 ],
 "metadata": {
  "kernelspec": {
   "display_name": "Python 3",
   "language": "python",
   "name": "python3"
  },
  "language_info": {
   "codemirror_mode": {
    "name": "ipython",
    "version": 3
   },
   "file_extension": ".py",
   "mimetype": "text/x-python",
   "name": "python",
   "nbconvert_exporter": "python",
   "pygments_lexer": "ipython3",
   "version": "3.7.3"
  }
 },
 "nbformat": 4,
 "nbformat_minor": 2
}
